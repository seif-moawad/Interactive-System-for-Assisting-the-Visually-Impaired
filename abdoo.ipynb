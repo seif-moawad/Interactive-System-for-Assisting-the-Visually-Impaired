{
 "cells": [
  {
   "cell_type": "code",
   "execution_count": 1,
   "metadata": {},
   "outputs": [
    {
     "name": "stdout",
     "output_type": "stream",
     "text": [
      "Requirement already satisfied: face_recognition in c:\\python\\lib\\site-packages (1.3.0)\n",
      "Requirement already satisfied: face-recognition-models>=0.3.0 in c:\\python\\lib\\site-packages (from face_recognition) (0.3.0)\n",
      "Requirement already satisfied: Click>=6.0 in c:\\python\\lib\\site-packages (from face_recognition) (8.1.3)\n",
      "Requirement already satisfied: dlib>=19.7 in c:\\python\\lib\\site-packages\\dlib-19.24.99-py3.10-win-amd64.egg (from face_recognition) (19.24.99)\n",
      "Requirement already satisfied: numpy in c:\\python\\lib\\site-packages (from face_recognition) (1.23.5)\n",
      "Requirement already satisfied: Pillow in c:\\python\\lib\\site-packages (from face_recognition) (9.5.0)\n",
      "Requirement already satisfied: colorama in c:\\python\\lib\\site-packages (from Click>=6.0->face_recognition) (0.4.6)\n",
      "Note: you may need to restart the kernel to use updated packages.\n"
     ]
    },
    {
     "name": "stderr",
     "output_type": "stream",
     "text": [
      "WARNING: Ignoring invalid distribution -rotobuf (c:\\python\\lib\\site-packages)\n",
      "WARNING: Ignoring invalid distribution -rotobuf (c:\\python\\lib\\site-packages)\n",
      "\n",
      "[notice] A new release of pip is available: 23.1 -> 23.1.2\n",
      "[notice] To update, run: python.exe -m pip install --upgrade pip\n"
     ]
    }
   ],
   "source": [
    "pip install face_recognition"
   ]
  },
  {
   "cell_type": "code",
   "execution_count": 1,
   "metadata": {},
   "outputs": [],
   "source": [
    "import cv2\n",
    "import face_recognition\n",
    "import os\n",
    "import glob\n",
    "import numpy as np\n"
   ]
  },
  {
   "cell_type": "code",
   "execution_count": 2,
   "metadata": {},
   "outputs": [],
   "source": [
    "img = cv2.imread(r'C:\\Users\\seifm\\Downloads\\aboutrika.jpg')\n",
    "rgb_img = cv2.cvtColor(img, cv2.COLOR_BGR2RGB)\n",
    "img_encoding = face_recognition.face_encodings(rgb_img)[0]"
   ]
  },
  {
   "cell_type": "code",
   "execution_count": 3,
   "metadata": {},
   "outputs": [],
   "source": [
    "img2 = cv2.imread(r'C:\\Users\\seifm\\Downloads\\Aboutrika2011.jpg')\n",
    "rgb_img2 = cv2.cvtColor(img2, cv2.COLOR_BGR2RGB)\n",
    "img_encoding2 = face_recognition.face_encodings(rgb_img2)[0]"
   ]
  },
  {
   "cell_type": "code",
   "execution_count": 4,
   "metadata": {},
   "outputs": [
    {
     "name": "stdout",
     "output_type": "stream",
     "text": [
      "Result:  [True]\n"
     ]
    }
   ],
   "source": [
    "result = face_recognition.compare_faces([img_encoding], img_encoding2)\n",
    "print(\"Result: \", result)"
   ]
  },
  {
   "cell_type": "code",
   "execution_count": 2,
   "metadata": {},
   "outputs": [],
   "source": [
    "class SimpleFacerec:\n",
    "    def __init__(self):\n",
    "        self.known_face_encodings = []\n",
    "        self.known_face_names = []\n",
    "\n",
    "        # Resize frame for a faster speed\n",
    "        self.frame_resizing = 0.25\n",
    "\n",
    "    def load_encoding_images(self, images_path):\n",
    "        \"\"\"\n",
    "        Load encoding images from path\n",
    "        :param images_path:\n",
    "        :return:\n",
    "        \"\"\"\n",
    "        # Load Images\n",
    "        images_path = glob.glob(os.path.join(images_path, \"*.*\"))\n",
    "\n",
    "        print(\"{} encoding images found.\".format(len(images_path)))\n",
    "\n",
    "        # Store image encoding and names\n",
    "        for img_path in images_path:\n",
    "            img = cv2.imread(img_path)\n",
    "            rgb_img = cv2.cvtColor(img, cv2.COLOR_BGR2RGB)\n",
    "\n",
    "            # Get the filename only from the initial file path.\n",
    "            basename = os.path.basename(img_path)\n",
    "            (filename, ext) = os.path.splitext(basename)\n",
    "            # Get encoding\n",
    "            img_encoding = face_recognition.face_encodings(rgb_img)[0]\n",
    "\n",
    "            # Store file name and file encoding\n",
    "            self.known_face_encodings.append(img_encoding)\n",
    "            self.known_face_names.append(filename)\n",
    "        print(\"Encoding images loaded\")\n",
    "\n",
    "    def detect_known_faces(self, frame):\n",
    "        small_frame = cv2.resize(frame, (0, 0), fx=self.frame_resizing, fy=self.frame_resizing)\n",
    "        # Find all the faces and face encodings in the current frame of video\n",
    "        # Convert the image from BGR color (which OpenCV uses) to RGB color (which face_recognition uses)\n",
    "        rgb_small_frame = cv2.cvtColor(small_frame, cv2.COLOR_BGR2RGB)\n",
    "        face_locations = face_recognition.face_locations(rgb_small_frame)\n",
    "        face_encodings = face_recognition.face_encodings(rgb_small_frame, face_locations)\n",
    "\n",
    "        face_names = []\n",
    "        for face_encoding in face_encodings:\n",
    "            # See if the face is a match for the known face(s)\n",
    "            matches = face_recognition.compare_faces(self.known_face_encodings, face_encoding)\n",
    "            name = \"Unknown\"\n",
    "\n",
    "            # # If a match was found in known_face_encodings, just use the first one.\n",
    "            # if True in matches:\n",
    "            #     first_match_index = matches.index(True)\n",
    "            #     name = known_face_names[first_match_index]\n",
    "\n",
    "            # Or instead, use the known face with the smallest distance to the new face\n",
    "            face_distances = face_recognition.face_distance(self.known_face_encodings, face_encoding)\n",
    "            best_match_index = np.argmin(face_distances)\n",
    "            if matches[best_match_index]:\n",
    "                name = self.known_face_names[best_match_index]\n",
    "            face_names.append(name)\n",
    "\n",
    "        # Convert to numpy array to adjust coordinates with frame resizing quickly\n",
    "        face_locations = np.array(face_locations)\n",
    "        face_locations = face_locations / self.frame_resizing\n",
    "        return face_locations.astype(int), face_names\n"
   ]
  },
  {
   "cell_type": "code",
   "execution_count": 4,
   "metadata": {},
   "outputs": [
    {
     "name": "stdout",
     "output_type": "stream",
     "text": [
      "7 encoding images found.\n",
      "Encoding images loaded\n"
     ]
    }
   ],
   "source": [
    "sfr = SimpleFacerec()\n",
    "sfr.load_encoding_images(r\"E:\\Downloads\\source-code-face-recognition\\source code\\images\")\n",
    "cap = cv2.VideoCapture(1)\n",
    "while cap.isOpened():\n",
    "        \n",
    "    success, image = cap.read()\n",
    "    if not success:\n",
    "      print(\"Ignoring empty camera frame.\")\n",
    "        # If loading a video, use 'break' instead of 'continue'.\n",
    "      continue\n",
    "    image.flags.writeable = False\n",
    "# Load Camera\n",
    "    # Detect Faces\n",
    "    face_locations, face_names = sfr.detect_known_faces(image)\n",
    "    for face_loc, name in zip(face_locations, face_names):\n",
    "        y1, x2, y2, x1 = face_loc[0], face_loc[1], face_loc[2], face_loc[3]\n",
    "\n",
    "        cv2.putText(image, name,(x1, y1 - 10), cv2.FONT_HERSHEY_DUPLEX, 1, (0, 0, 200), 2)\n",
    "        cv2.rectangle(image, (x1, y1), (x2, y2), (0, 0, 200), 4)\n",
    "\n",
    "    cv2.imshow(\"Frame\", image)\n",
    "\n",
    "    #key = cv2.waitKey(1)\n",
    "    if cv2.waitKey(10) & 0xFF == ord('q'):\n",
    "        break\n",
    "\n",
    "cap.release()\n",
    "cv2.destroyAllWindows()"
   ]
  },
  {
   "cell_type": "code",
   "execution_count": 15,
   "metadata": {},
   "outputs": [],
   "source": [
    "import cv2\n",
    "import mediapipe as mp\n",
    "import numpy as np\n",
    "mp_drawing = mp.solutions.drawing_utils\n",
    "mp_drawing_styles = mp.solutions.drawing_styles\n",
    "mp_pose = mp.solutions.pose\n",
    "mp_holistic = mp.solutions.holistic # Mediapipe Solutions\n",
    "mp_face_mesh = mp.solutions.face_mesh"
   ]
  },
  {
   "cell_type": "code",
   "execution_count": 16,
   "metadata": {},
   "outputs": [
    {
     "name": "stdout",
     "output_type": "stream",
     "text": [
      "Nose coordinates: (374.4115447998047, 315.1494026184082)\n",
      "Pose landmarks :\n",
      "Nose coordinates: (381.10260009765625, 316.695556640625)\n",
      "Pose landmarks :\n",
      "Nose coordinates: (354.1220474243164, 301.1458969116211)\n",
      "Pose landmarks :\n",
      "Nose coordinates: (351.6651916503906, 300.75465202331543)\n",
      "Pose landmarks :\n",
      "Nose coordinates: (343.98143768310547, 299.6862602233887)\n",
      "Pose landmarks :\n",
      "Nose coordinates: (348.8886260986328, 298.4597969055176)\n",
      "Pose landmarks :\n",
      "Nose coordinates: (349.6786880493164, 281.85619354248047)\n",
      "Pose landmarks :\n",
      "Nose coordinates: (375.32474517822266, 277.55773544311523)\n",
      "Pose landmarks :\n",
      "Pose landmarks :\n",
      "Pose landmarks :\n",
      "Pose landmarks :\n",
      "Pose landmarks :\n",
      "Pose landmarks :\n",
      "Pose landmarks :\n",
      "Pose landmarks :\n",
      "Pose landmarks :\n",
      "Pose landmarks :\n",
      "Pose landmarks :\n",
      "Pose landmarks :\n",
      "Pose landmarks :\n",
      "Pose landmarks :\n",
      "Pose landmarks :\n",
      "Nose coordinates: (346.6661834716797, 229.99590396881104)\n",
      "Pose landmarks :\n",
      "Pose landmarks :\n",
      "Pose landmarks :\n",
      "Pose landmarks :\n",
      "Pose landmarks :\n",
      "Nose coordinates: (372.36682891845703, 282.6431179046631)\n",
      "Pose landmarks :\n",
      "Nose coordinates: (373.1047821044922, 283.36100578308105)\n",
      "Pose landmarks :\n",
      "Pose landmarks :\n",
      "Pose landmarks :\n",
      "Nose coordinates: (359.53075408935547, 282.66377449035645)\n",
      "Pose landmarks :\n",
      "Nose coordinates: (361.8891143798828, 283.3717632293701)\n",
      "Pose landmarks :\n",
      "Pose landmarks :\n",
      "Pose landmarks :\n",
      "Pose landmarks :\n",
      "Pose landmarks :\n",
      "Pose landmarks :\n",
      "Pose landmarks :\n",
      "Pose landmarks :\n",
      "Pose landmarks :\n",
      "Pose landmarks :\n",
      "Pose landmarks :\n",
      "Pose landmarks :\n",
      "Pose landmarks :\n",
      "Pose landmarks :\n",
      "Pose landmarks :\n",
      "Pose landmarks :\n",
      "Pose landmarks :\n",
      "Nose coordinates: (353.3696746826172, 280.6930446624756)\n",
      "Pose landmarks :\n",
      "Nose coordinates: (346.80179595947266, 283.4747314453125)\n",
      "Pose landmarks :\n",
      "Nose coordinates: (357.7562713623047, 283.6805248260498)\n",
      "Pose landmarks :\n",
      "Nose coordinates: (346.6258239746094, 280.2624034881592)\n",
      "Pose landmarks :\n",
      "Nose coordinates: (343.53343963623047, 285.560245513916)\n",
      "Pose landmarks :\n",
      "Nose coordinates: (330.95699310302734, 288.1844902038574)\n",
      "Pose landmarks :\n",
      "Nose coordinates: (344.2737579345703, 301.97702407836914)\n",
      "Pose landmarks :\n",
      "Nose coordinates: (355.75267791748047, 310.56867599487305)\n",
      "Pose landmarks :\n",
      "Pose landmarks :\n",
      "Pose landmarks :\n"
     ]
    }
   ],
   "source": [
    "data=\"\"\n",
    "cap = cv2.VideoCapture(0)\n",
    "with mp_holistic.Holistic(\n",
    "        static_image_mode=True, min_detection_confidence=0.5, model_complexity=2) as holistic:\n",
    "    while cap.isOpened():\n",
    "     success, image = cap.read()\n",
    "     if not success:\n",
    "      print(\"Ignoring empty camera frame.\")\n",
    "        # If loading a video, use 'break' instead of 'continue'.\n",
    "      continue\n",
    "     image.flags.writeable = False\n",
    "     results = holistic.process(cv2.cvtColor(image, cv2.COLOR_BGR2RGB))\n",
    "\n",
    "        # Print nose coordinates.\n",
    "     image_hight, image_width, _ = image.shape\n",
    "     if results.pose_landmarks:\n",
    "          print(\n",
    "            f'Nose coordinates: ('\n",
    "            f'{results.pose_landmarks.landmark[mp_holistic.PoseLandmark.NOSE].x * image_width}, '\n",
    "            f'{results.pose_landmarks.landmark[mp_holistic.PoseLandmark.NOSE].y * image_hight})'\n",
    "          )\n",
    "\n",
    "        # Draw pose landmarks.\n",
    "     print(f'Pose landmarks :')\n",
    "     annotated_image = image.copy()\n",
    "     mp_drawing.draw_landmarks(\n",
    "            annotated_image, \n",
    "            results.left_hand_landmarks, \n",
    "            mp_holistic.HAND_CONNECTIONS)\n",
    "     mp_drawing.draw_landmarks(\n",
    "            annotated_image, \n",
    "            results.right_hand_landmarks, \n",
    "            mp_holistic.HAND_CONNECTIONS)\n",
    "     mp_drawing.draw_landmarks(\n",
    "            annotated_image,\n",
    "            results.face_landmarks,\n",
    "            mp_holistic.FACEMESH_TESSELATION,\n",
    "            landmark_drawing_spec=None,\n",
    "            connection_drawing_spec=mp_drawing_styles\n",
    "            .get_default_face_mesh_tesselation_style())\n",
    "     mp_drawing.draw_landmarks(\n",
    "            annotated_image,\n",
    "            results.pose_landmarks,\n",
    "            mp_holistic.POSE_CONNECTIONS,\n",
    "            landmark_drawing_spec=mp_drawing_styles.\n",
    "            get_default_pose_landmarks_style())\n",
    "        #viewImage(annotated_image)\n",
    "        #return results.pose_landmarks\n",
    "     #data+=str(face_landmarks.landmark[point].x*image_width)+\",\"+str(face_landmarks.landmark[point].y*image_height)+\",\"\n",
    "     #print(data)\n",
    "    # Flip the image horizontally for a selfie-view display.\n",
    "     cv2.imshow('MediaPipe Face Mesh', cv2.flip(annotated_image, 1))\n",
    "     if cv2.waitKey(10) & 0xFF == ord('q'):\n",
    "            break\n",
    "    \n",
    "cap.release()\n",
    "cv2.destroyAllWindows()"
   ]
  },
  {
   "cell_type": "code",
   "execution_count": 25,
   "metadata": {},
   "outputs": [
    {
     "name": "stdout",
     "output_type": "stream",
     "text": [
      "found 0 devices\n"
     ]
    }
   ],
   "source": [
    "import bluetooth\n",
    "nearby_devices = bluetooth.discover_devices(lookup_names=True)\n",
    "print(\"found %d devices\" % len(nearby_devices))\n",
    "\n",
    "for addr, name in nearby_devices:\n",
    "     print(\" %s - %s\" % (addr, name))\n",
    "     "
   ]
  },
  {
   "cell_type": "code",
   "execution_count": null,
   "metadata": {},
   "outputs": [],
   "source": [
    "import socket\n",
    "mySocket = socket.socket()\n",
    "mySocket.bind(('localhost', 5000))\n",
    "mySocket.listen(5)\n",
    "conn , addr = mySocket.accept()\n",
    "print(\"device connected\")\n",
    "# print(conn,addr)\n",
    "msg =bytes(name,'UTF-8')\n",
    "# print(msg)\n",
    "conn.send(msg)"
   ]
  }
 ],
 "metadata": {
  "kernelspec": {
   "display_name": "Python 3",
   "language": "python",
   "name": "python3"
  },
  "language_info": {
   "codemirror_mode": {
    "name": "ipython",
    "version": 3
   },
   "file_extension": ".py",
   "mimetype": "text/x-python",
   "name": "python",
   "nbconvert_exporter": "python",
   "pygments_lexer": "ipython3",
   "version": "3.10.2"
  },
  "orig_nbformat": 4
 },
 "nbformat": 4,
 "nbformat_minor": 2
}
